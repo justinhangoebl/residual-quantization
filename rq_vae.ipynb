{
 "cells": [
  {
   "cell_type": "code",
   "execution_count": null,
   "metadata": {},
   "outputs": [],
   "source": [
    "import torch\n",
    "from torch import nn, optim\n",
    "from tqdm import tqdm\n",
    "from torchvision import datas, transforms\n",
    "import matplotlib.pyplot as plt\n",
    "import torch.nn.functional as F\n",
    "import torch.utils.data as data\n",
    "import pandas as pd\n",
    "from sklearn.model_selection import train_test_split\n",
    "import numpy as np\n",
    "\n",
    "%matplotlib inline"
   ]
  },
  {
   "cell_type": "code",
   "execution_count": null,
   "metadata": {},
   "outputs": [],
   "source": [
    "iterations=400000\n",
    "learning_rate=0.0005\n",
    "weight_decay=0.01\n",
    "batch_size=64\n",
    "vae_input_dim=768\n",
    "vae_n_cat_feats=0\n",
    "vae_hidden_dims=[512, 256, 128]\n",
    "vae_embed_dim=32\n",
    "vae_codebook_size=256\n",
    "vae_codebook_normalize=False\n",
    "vae_sim_vq=False\n",
    "save_model_every=5000\n",
    "eval_every=5000\n",
    "data_folder=\"data/lfm\"\n",
    "data=\"data/\"\n",
    "save_dir_root=\"out/rqvae/lfm/\"\n",
    "wandb_logging=True\n",
    "commitment_weight=0.25\n",
    "vae_n_layers=3\n",
    "vae_codebook_mode=\"modules.quantize.QuantizeForwardMode.ROTATION_TRICK\"\n",
    "force_data_process=False\n",
    "data_split=\"beauty\"\n",
    "do_eval=True"
   ]
  },
  {
   "cell_type": "code",
   "execution_count": null,
   "metadata": {},
   "outputs": [],
   "source": []
  }
 ],
 "metadata": {
  "kernelspec": {
   "display_name": ".venv",
   "language": "python",
   "name": "python3"
  },
  "language_info": {
   "codemirror_mode": {
    "name": "ipython",
    "version": 3
   },
   "file_extension": ".py",
   "mimetype": "text/x-python",
   "name": "python",
   "nbconvert_exporter": "python",
   "pygments_lexer": "ipython3",
   "version": "3.12.4"
  }
 },
 "nbformat": 4,
 "nbformat_minor": 2
}
